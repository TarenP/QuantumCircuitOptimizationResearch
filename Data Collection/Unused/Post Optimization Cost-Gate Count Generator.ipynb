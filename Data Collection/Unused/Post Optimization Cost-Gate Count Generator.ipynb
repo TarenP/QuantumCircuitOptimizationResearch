{
 "cells": [
  {
   "cell_type": "code",
   "execution_count": 1,
   "id": "025ff6dd-c695-4060-83b2-72ebc17def66",
   "metadata": {},
   "outputs": [],
   "source": [
    "from qiskit import *\n",
    "import pandas as pd\n",
    "from qiskit import transpile\n",
    "import random\n",
    "import csv\n",
    "import numpy as np\n",
    "from qiskit.providers.aer import AerSimulator\n",
    "import time\n",
    "import itertools\n",
    "import random\n",
    "import progressbar\n",
    "import pathlib\n",
    "from IPython.display import clear_output\n",
    "from qiskit.tools.monitor import job_monitor\n",
    "\n",
    "from qiskit import IBMQ, Aer\n",
    "from qiskit.providers.aer.noise import NoiseModel\n",
    "provider = IBMQ.load_account()\n",
    "# IBMQ.load_account()\n",
    "provider = IBMQ.get_provider(hub = 'ibm-q-research-2', group = 'los-gatos-hs-1', project = 'main')\n",
    "backend = provider.get_backend('ibm_perth')\n",
    "\n",
    "qubitCount = 7\n",
    "\n",
    "noise_model = NoiseModel.from_backend(backend)\n",
    "\n",
    "# Get coupling map from backend\n",
    "coupling_map = backend.configuration().coupling_map\n",
    "\n",
    "# Get basis gates from noise model\n",
    "basis_gates = noise_model.basis_gates\n",
    "\n",
    "Gates = ['rz', 'rx', 'ry', 'sx', 'x', 'y', 'z', 'h', 'cx', 'swap']\n",
    "gateCosts = [1, 1, 1, 1, 1, 1, 1, 2, 5, 11]\n",
    "fields = ['Cost', 'Gate Count', 'Optimization Level', 'Runtime', 'Transpile Time']"
   ]
  },
  {
   "cell_type": "code",
   "execution_count": 2,
   "id": "18e57dfb-14db-4d25-a2bd-f5101f8afa7a",
   "metadata": {},
   "outputs": [],
   "source": [
    "def QCtoDF(qc):\n",
    "    string = qc.qasm()\n",
    "    circuit = string.split(';')\n",
    "    #Changed to 3: from 4:\n",
    "    circuit = circuit[3:]\n",
    "    circuit.pop(len(circuit)-1)\n",
    "    #print(circuit)\n",
    "    with open(r\"gatesTemp.csv\", 'w', newline='', encoding='UTF8') as f:\n",
    "        writer = csv.writer(f)\n",
    "        writer.writerow(['Gate', 'Qubit'])\n",
    "        for i in range(len(circuit)):            \n",
    "            circuit[i] = circuit[i].replace(\"\\n\", '')\n",
    "            #print(circuit[0][1])\n",
    "            temp = circuit[i].split(' ')\n",
    "            #temp[1] = temp[1].split(',')\n",
    "            for j in range(len(temp[1])):\n",
    "                 temp[1] = temp[1].replace(\"q[\", '')\n",
    "                 temp[1] = temp[1].replace(\"]\", '')\n",
    "            if temp[0] != 'measure' and temp[0] != 'barrier' and temp[0] != 'creg':\n",
    "                writer.writerow(temp)\n",
    "    df = pd.DataFrame(pd.read_csv(r\"gatesTemp.csv\"))\n",
    "    return df"
   ]
  },
  {
   "cell_type": "code",
   "execution_count": 3,
   "id": "569b16b9-11a8-4676-b64e-11fba6ebe6f5",
   "metadata": {},
   "outputs": [],
   "source": [
    "def unique(list1):\n",
    "  \n",
    "    # initialize a null list\n",
    "    unique_list = []\n",
    "  \n",
    "    # traverse for all elements\n",
    "    for x in list1:\n",
    "        # check if exists in unique_list or not\n",
    "        if x not in unique_list:\n",
    "            unique_list.append(x)\n",
    "    return(unique_list)\n"
   ]
  },
  {
   "cell_type": "code",
   "execution_count": 4,
   "id": "2a69b5f9-e1b5-4669-9260-6cceb19d70cc",
   "metadata": {},
   "outputs": [],
   "source": [
    "def depthFinder(df):\n",
    "    qubits = df['Qubit'].value_counts()\n",
    "    qubits = dict(qubits)\n",
    "    lst = list(qubits.items())\n",
    "    #get depth\n",
    "    if len(lst) > 1:\n",
    "        qnum = []\n",
    "        for j in range(len(lst)):\n",
    "            strList = str(lst[j][0]).split(',')\n",
    "            qnum.append(strList[0])\n",
    "        qnum = unique(qnum)\n",
    "        counts = []\n",
    "        for num in qnum:\n",
    "            for j in range(len(lst)):\n",
    "                strList = str(lst[j][0]).split(',')\n",
    "                if strList[0] == num:\n",
    "                    for times in range(lst[j][1]):\n",
    "                        counts.append(strList[0])\n",
    "        return len(counts) \n",
    "    elif len(lst) > 0:\n",
    "        return(lst[0][1])\n",
    "    else:\n",
    "        return(0)\n",
    "    "
   ]
  },
  {
   "cell_type": "code",
   "execution_count": 5,
   "id": "2fc09dad-38d9-412d-a9da-6ee4d328ad44",
   "metadata": {},
   "outputs": [],
   "source": [
    "def ComplexityFinder(qc):\n",
    "    df = QCtoDF(qc)\n",
    "    depth = depthFinder(df)\n",
    "    #Get Cost\n",
    "    cost = 0\n",
    "    for i in df['Gate']:\n",
    "        if i in Gates:\n",
    "            cost += int(gateCosts[Gates.index(i)])\n",
    "        else:\n",
    "            cost += int(gateCosts[Gates.index(i[:2])])\n",
    "        \n",
    "    return cost, depth"
   ]
  },
  {
   "cell_type": "code",
   "execution_count": 6,
   "id": "2a531251-84fa-4ce3-ba2b-241b9d9577a3",
   "metadata": {},
   "outputs": [],
   "source": [
    " def binary_search(cost, name):  \n",
    "    low = 0  \n",
    "    high = int((np.math.factorial(4 + name - 1))/(np.math.factorial(name)*(np.math.factorial(3)))) - 1\n",
    "    mid = 0  \n",
    "  \n",
    "    while low <= high:  \n",
    "        # for get integer result   \n",
    "        mid = (high + low) // 2  \n",
    "        # print(\"Name\", name)\n",
    "        try:\n",
    "            dfFull = pd.read_csv(\"D:/Documents/Combinations/combo\" + str(name) + \".csv\", skiprows = mid, nrows=1)\n",
    "        except:\n",
    "            with open(r\"ErrorLog.csv\", 'w', newline='', encoding='UTF8') as f:\n",
    "                writer = csv.writer(f)\n",
    "                writer.writerow([name])\n",
    "                return -1\n",
    "        # Check if n is present at mid   \n",
    "        if dfFull.loc[0][0] < cost:  \n",
    "            low = mid + 1  \n",
    "  \n",
    "        # If n is greater, compare to the right of mid   \n",
    "    \n",
    "        elif dfFull.loc[0][0] > cost:  \n",
    "            high = mid - 1  \n",
    "  \n",
    "        # If n is smaller, compared to the left of mid  \n",
    "        else:  \n",
    "            return mid  \n",
    "  \n",
    "            # element was not present in the list, return -1  \n",
    "    return -1  \n",
    "# binary_search(25, 20)"
   ]
  },
  {
   "cell_type": "code",
   "execution_count": 7,
   "id": "caa36c17-a7ab-43d5-9324-31e58dfcf3a4",
   "metadata": {},
   "outputs": [],
   "source": [
    "def Average(lst):\n",
    "    return sum(lst) / len(lst)"
   ]
  },
  {
   "cell_type": "markdown",
   "id": "2dd4dd9b-43e0-451f-8475-da37ae6e1228",
   "metadata": {},
   "source": [
    "# Generate List of all Gate Combos"
   ]
  },
  {
   "cell_type": "code",
   "execution_count": 8,
   "id": "27e6eb49-4046-40bd-a85a-8bb17230c5f5",
   "metadata": {},
   "outputs": [
    {
     "name": "stderr",
     "output_type": "stream",
     "text": [
      " 99% |####################################################################### |\r"
     ]
    }
   ],
   "source": [
    "#No need to include phase gates, will replace x gates randomly with them\n",
    "Gates2 = ['x', 'h', 'cx', 'swap']\n",
    "maxComboLength = 290\n",
    "bar = progressbar.ProgressBar(maxval=maxComboLength).start()\n",
    "combs = []\n",
    "for i in range(1, maxComboLength):\n",
    "    #Files become too large to store on C drive. On external drive instead\n",
    "    path = pathlib.Path(\"D:/Documents/Combinations/combo\" + str(i) + \".csv\")\n",
    "    if path.exists():\n",
    "        # print(i)\n",
    "        pass\n",
    "    else:\n",
    "        with open(r\"D:/Documents/Combinations/combo\" + str(i) + \".csv\", 'w', newline='', encoding='UTF8') as f:\n",
    "            # create the csv writer\n",
    "            writer = csv.writer(f)\n",
    "            #Create header\n",
    "            header = []\n",
    "            header.append(\"Cost\")\n",
    "            for num in range(0, i):\n",
    "                header.append(num)\n",
    "            writer.writerow(header)\n",
    "            for combination in itertools.combinations_with_replacement(Gates2, i):\n",
    "                total = 0\n",
    "                for g in combination:\n",
    "                    total += gateCosts[Gates.index(g)]\n",
    "                combination = list(combination)\n",
    "                # print(combination)\n",
    "                combination.insert(0, total)\n",
    "                writer.writerow(combination)\n",
    "        df = pd.read_csv(\"D:/Documents/Combinations/combo\" + str(i) + \".csv\")\n",
    "        sorted_df = df.sort_values(by=[\"Cost\"], ascending=True)\n",
    "        sorted_df.to_csv(\"D:/Documents/Combinations/combo\" + str(i) + \".csv\", index=False)\n",
    "    bar.update(i)"
   ]
  },
  {
   "cell_type": "code",
   "execution_count": 9,
   "id": "ec5061f9-6b9a-4d26-bf79-ab017a10a966",
   "metadata": {},
   "outputs": [
    {
     "name": "stdout",
     "output_type": "stream",
     "text": [
      "Name 289\n"
     ]
    }
   ],
   "source": [
    "#Check if all files can be read, no corrupt files\n",
    "for name in range(1, maxComboLength):\n",
    "    clear_output(wait=True)\n",
    "    print(\"Name\", name)\n",
    "    dfFull = pd.read_csv(\"D:/Documents/Combinations/combo\" + str(name) + \".csv\", skiprows = 0, nrows=1)"
   ]
  },
  {
   "cell_type": "markdown",
   "id": "5fd3260f-ff0c-4003-b0d3-19f3e5a55492",
   "metadata": {},
   "source": [
    "## Circuit Generation"
   ]
  },
  {
   "cell_type": "code",
   "execution_count": 13,
   "id": "79acef0d-8a2d-4904-bcb9-09bdea04e3fc",
   "metadata": {},
   "outputs": [
    {
     "ename": "KeyboardInterrupt",
     "evalue": "",
     "output_type": "error",
     "traceback": [
      "\u001b[1;31m---------------------------------------------------------------------------\u001b[0m",
      "\u001b[1;31mKeyboardInterrupt\u001b[0m                         Traceback (most recent call last)",
      "Input \u001b[1;32mIn [13]\u001b[0m, in \u001b[0;36m<cell line: 12>\u001b[1;34m()\u001b[0m\n\u001b[0;32m     67\u001b[0m tqc3 \u001b[38;5;241m=\u001b[39m  transpile(qc, backend, optimization_level \u001b[38;5;241m=\u001b[39m \u001b[38;5;241m3\u001b[39m)\n\u001b[0;32m     68\u001b[0m TT \u001b[38;5;241m=\u001b[39m time\u001b[38;5;241m.\u001b[39mtime() \u001b[38;5;241m-\u001b[39m start_time\n\u001b[1;32m---> 69\u001b[0m result \u001b[38;5;241m=\u001b[39m \u001b[43mexecute\u001b[49m\u001b[43m(\u001b[49m\u001b[43mtqc3\u001b[49m\u001b[43m,\u001b[49m\u001b[43m \u001b[49m\u001b[43mAer\u001b[49m\u001b[38;5;241;43m.\u001b[39;49m\u001b[43mget_backend\u001b[49m\u001b[43m(\u001b[49m\u001b[38;5;124;43m'\u001b[39;49m\u001b[38;5;124;43mqasm_simulator\u001b[39;49m\u001b[38;5;124;43m'\u001b[39;49m\u001b[43m)\u001b[49m\u001b[43m,\u001b[49m\u001b[43m \u001b[49m\u001b[43mcoupling_map\u001b[49m\u001b[38;5;241;43m=\u001b[39;49m\u001b[43mcoupling_map\u001b[49m\u001b[43m,\u001b[49m\u001b[43m \u001b[49m\u001b[43mbasis_gates\u001b[49m\u001b[38;5;241;43m=\u001b[39;49m\u001b[43mbasis_gates\u001b[49m\u001b[43m,\u001b[49m\u001b[43m \u001b[49m\u001b[43mnoise_model\u001b[49m\u001b[38;5;241;43m=\u001b[39;49m\u001b[43mnoise_model\u001b[49m\u001b[43m)\u001b[49m\u001b[38;5;241;43m.\u001b[39;49m\u001b[43mresult\u001b[49m\u001b[43m(\u001b[49m\u001b[43m)\u001b[49m\n\u001b[0;32m     70\u001b[0m RT \u001b[38;5;241m=\u001b[39m result\u001b[38;5;241m.\u001b[39mtime_taken\n\u001b[0;32m     71\u001b[0m tempCost, tempGC \u001b[38;5;241m=\u001b[39m ComplexityFinder(tqc3)\n",
      "File \u001b[1;32m~\\anaconda3\\lib\\site-packages\\qiskit\\providers\\aer\\jobs\\utils.py:41\u001b[0m, in \u001b[0;36mrequires_submit.<locals>._wrapper\u001b[1;34m(self, *args, **kwargs)\u001b[0m\n\u001b[0;32m     39\u001b[0m \u001b[38;5;28;01mif\u001b[39;00m \u001b[38;5;28mself\u001b[39m\u001b[38;5;241m.\u001b[39m_future \u001b[38;5;129;01mis\u001b[39;00m \u001b[38;5;28;01mNone\u001b[39;00m:\n\u001b[0;32m     40\u001b[0m     \u001b[38;5;28;01mraise\u001b[39;00m JobError(\u001b[38;5;124m\"\u001b[39m\u001b[38;5;124mJob not submitted yet!. You have to .submit() first!\u001b[39m\u001b[38;5;124m\"\u001b[39m)\n\u001b[1;32m---> 41\u001b[0m \u001b[38;5;28;01mreturn\u001b[39;00m func(\u001b[38;5;28mself\u001b[39m, \u001b[38;5;241m*\u001b[39margs, \u001b[38;5;241m*\u001b[39m\u001b[38;5;241m*\u001b[39mkwargs)\n",
      "File \u001b[1;32m~\\anaconda3\\lib\\site-packages\\qiskit\\providers\\aer\\jobs\\aerjob.py:78\u001b[0m, in \u001b[0;36mAerJob.result\u001b[1;34m(self, timeout)\u001b[0m\n\u001b[0;32m     60\u001b[0m \u001b[38;5;129m@requires_submit\u001b[39m\n\u001b[0;32m     61\u001b[0m \u001b[38;5;28;01mdef\u001b[39;00m \u001b[38;5;21mresult\u001b[39m(\u001b[38;5;28mself\u001b[39m, timeout\u001b[38;5;241m=\u001b[39m\u001b[38;5;28;01mNone\u001b[39;00m):\n\u001b[0;32m     62\u001b[0m     \u001b[38;5;66;03m# pylint: disable=arguments-differ\u001b[39;00m\n\u001b[0;32m     63\u001b[0m     \u001b[38;5;124;03m\"\"\"Get job result. The behavior is the same as the underlying\u001b[39;00m\n\u001b[0;32m     64\u001b[0m \u001b[38;5;124;03m    concurrent Future objects,\u001b[39;00m\n\u001b[0;32m     65\u001b[0m \n\u001b[1;32m   (...)\u001b[0m\n\u001b[0;32m     76\u001b[0m \u001b[38;5;124;03m        concurrent.futures.CancelledError: if job cancelled before completed.\u001b[39;00m\n\u001b[0;32m     77\u001b[0m \u001b[38;5;124;03m    \"\"\"\u001b[39;00m\n\u001b[1;32m---> 78\u001b[0m     \u001b[38;5;28;01mreturn\u001b[39;00m \u001b[38;5;28;43mself\u001b[39;49m\u001b[38;5;241;43m.\u001b[39;49m\u001b[43m_future\u001b[49m\u001b[38;5;241;43m.\u001b[39;49m\u001b[43mresult\u001b[49m\u001b[43m(\u001b[49m\u001b[43mtimeout\u001b[49m\u001b[38;5;241;43m=\u001b[39;49m\u001b[43mtimeout\u001b[49m\u001b[43m)\u001b[49m\n",
      "File \u001b[1;32m~\\anaconda3\\lib\\concurrent\\futures\\_base.py:441\u001b[0m, in \u001b[0;36mFuture.result\u001b[1;34m(self, timeout)\u001b[0m\n\u001b[0;32m    438\u001b[0m \u001b[38;5;28;01melif\u001b[39;00m \u001b[38;5;28mself\u001b[39m\u001b[38;5;241m.\u001b[39m_state \u001b[38;5;241m==\u001b[39m FINISHED:\n\u001b[0;32m    439\u001b[0m     \u001b[38;5;28;01mreturn\u001b[39;00m \u001b[38;5;28mself\u001b[39m\u001b[38;5;241m.\u001b[39m__get_result()\n\u001b[1;32m--> 441\u001b[0m \u001b[38;5;28;43mself\u001b[39;49m\u001b[38;5;241;43m.\u001b[39;49m\u001b[43m_condition\u001b[49m\u001b[38;5;241;43m.\u001b[39;49m\u001b[43mwait\u001b[49m\u001b[43m(\u001b[49m\u001b[43mtimeout\u001b[49m\u001b[43m)\u001b[49m\n\u001b[0;32m    443\u001b[0m \u001b[38;5;28;01mif\u001b[39;00m \u001b[38;5;28mself\u001b[39m\u001b[38;5;241m.\u001b[39m_state \u001b[38;5;129;01min\u001b[39;00m [CANCELLED, CANCELLED_AND_NOTIFIED]:\n\u001b[0;32m    444\u001b[0m     \u001b[38;5;28;01mraise\u001b[39;00m CancelledError()\n",
      "File \u001b[1;32m~\\anaconda3\\lib\\threading.py:312\u001b[0m, in \u001b[0;36mCondition.wait\u001b[1;34m(self, timeout)\u001b[0m\n\u001b[0;32m    310\u001b[0m \u001b[38;5;28;01mtry\u001b[39;00m:    \u001b[38;5;66;03m# restore state no matter what (e.g., KeyboardInterrupt)\u001b[39;00m\n\u001b[0;32m    311\u001b[0m     \u001b[38;5;28;01mif\u001b[39;00m timeout \u001b[38;5;129;01mis\u001b[39;00m \u001b[38;5;28;01mNone\u001b[39;00m:\n\u001b[1;32m--> 312\u001b[0m         \u001b[43mwaiter\u001b[49m\u001b[38;5;241;43m.\u001b[39;49m\u001b[43macquire\u001b[49m\u001b[43m(\u001b[49m\u001b[43m)\u001b[49m\n\u001b[0;32m    313\u001b[0m         gotit \u001b[38;5;241m=\u001b[39m \u001b[38;5;28;01mTrue\u001b[39;00m\n\u001b[0;32m    314\u001b[0m     \u001b[38;5;28;01melse\u001b[39;00m:\n",
      "\u001b[1;31mKeyboardInterrupt\u001b[0m: "
     ]
    }
   ],
   "source": [
    "final = []\n",
    "import time\n",
    "bar = progressbar.ProgressBar(maxval=250).start()\n",
    "\n",
    "#Error Log\n",
    "with open(r\"ErrorLog.csv\", 'w', newline='', encoding='UTF8') as f:\n",
    "    writer = csv.writer(f)\n",
    "    writer.writerow([\"Error\"])\n",
    "            \n",
    "#Cost has to be less than maxComboLength\n",
    "#Can change cost in intervals to decrease time\n",
    "for times in range(3):\n",
    "    for cost in range(1, 100 + 1):\n",
    "        #find all combinations of gates to = cost, include entanglement as soon as cost reaches large enough number\n",
    "        #max depth == cost\n",
    "        if cost >= maxComboLength:\n",
    "            break\n",
    "        for totalGates in range(1, cost + 1):\n",
    "            idx = binary_search(cost, totalGates)\n",
    "            # print(\"idx\", idx)\n",
    "            print(\"Cost:\", cost)\n",
    "            print(\"Total Number of Gates:\", totalGates)\n",
    "            #No possible combination\n",
    "            if idx != -1:\n",
    "                combination = []\n",
    "                df = pd.read_csv(r\"D:/Documents/Combinations/combo\" + str(totalGates) + \".csv\", skiprows = idx, nrows=1)\n",
    "                for i in df.loc[0]:\n",
    "                    if i in Gates:\n",
    "                        combination.append(i)\n",
    "\n",
    "                clear_output(wait=True)\n",
    "                # print(\"Cost:\", cost)\n",
    "                # print(\"Total Number of Gates:\", totalGates)\n",
    "                qc = QuantumCircuit(qubitCount)\n",
    "                if combination != []:\n",
    "                    comboTemp = combination\n",
    "                    random.shuffle(comboTemp)\n",
    "                    combo = []\n",
    "                    #Replace all x gates with x, y, or z\n",
    "                    for gate in comboTemp:\n",
    "                        if gate == 'x':\n",
    "                            combo.append(random.choice(['x', 'y', 'z']))\n",
    "                        else:\n",
    "                            combo.append(gate)\n",
    "                    #append all to first qubit until depth is met\n",
    "                    #the rest are distributed randomly to the others \n",
    "                    for gateIdx in range(len(combo)):\n",
    "                        if combo[gateIdx] == 'cx' or combo[gateIdx] == 'swap':\n",
    "                            randint1 = random.randint(0, qubitCount - 1)\n",
    "                            randint2 = random.randint(0, qubitCount - 1)\n",
    "                            while randint2 == randint1:\n",
    "                                randint2 = random.randint(0, qubitCount - 1)\n",
    "                            getattr(qc, combo[gateIdx])(randint1, randint2)\n",
    "                        else:\n",
    "                            randint1 = random.randint(0, qubitCount - 1)\n",
    "                            getattr(qc, combo[gateIdx])(randint1)\n",
    "                    # listToAppend.append(cost)\n",
    "                    # listToAppend.append(totalGates)\n",
    "                    qc.measure_all()\n",
    "                    # print(qc)\n",
    "                    listToAppend = []\n",
    "                    start_time = time.time()\n",
    "                    tqc3 =  transpile(qc, backend, optimization_level = 3)\n",
    "                    TT = time.time() - start_time\n",
    "                    result = execute(tqc3, Aer.get_backend('qasm_simulator'), coupling_map=coupling_map, basis_gates=basis_gates, noise_model=noise_model).result()\n",
    "                    RT = result.time_taken\n",
    "                    tempCost, tempGC = ComplexityFinder(tqc3)\n",
    "                    # listToAppend.append(result.get_counts())\n",
    "                    listToAppend = [tempCost, tempGC, 3, RT, TT]\n",
    "                    final.append(listToAppend)\n",
    "                    # print(tqc3)\n",
    "                    # print(listToAppend)\n",
    "\n",
    "                    listToAppend = []\n",
    "                    start_time = time.time()\n",
    "                    tqc2 =  transpile(qc, backend, optimization_level = 2)\n",
    "                    TT = time.time() - start_time\n",
    "                    result = execute(tqc2, Aer.get_backend('qasm_simulator'), coupling_map=coupling_map, basis_gates=basis_gates, noise_model=noise_model).result()\n",
    "                    RT = result.time_taken\n",
    "                    tempCost, tempGC = ComplexityFinder(tqc2)\n",
    "                    # listToAppend.append(result.get_counts())\n",
    "                    listToAppend = [tempCost, tempGC, 2, RT, TT]\n",
    "                    final.append(listToAppend)\n",
    "                    # print(tqc2)\n",
    "                    # print(listToAppend)\n",
    "\n",
    "                    listToAppend = []\n",
    "                    start_time = time.time()\n",
    "                    tqc1 =  transpile(qc, backend, optimization_level = 1)\n",
    "                    TT = time.time() - start_time\n",
    "                    result = execute(tqc1, Aer.get_backend('qasm_simulator'), coupling_map=coupling_map, basis_gates=basis_gates, noise_model=noise_model).result()\n",
    "                    RT = result.time_taken\n",
    "                    tempCost, tempGC = ComplexityFinder(tqc1)\n",
    "                    # listToAppend.append(result.get_counts())\n",
    "                    listToAppend = [tempCost, tempGC, 1, RT, TT]\n",
    "                    final.append(listToAppend)\n",
    "                    # print(tqc1)\n",
    "                    # print(listToAppend)\n",
    "\n",
    "                    listToAppend = []\n",
    "                    start_time = time.time()\n",
    "                    tqc0 =  transpile(qc, backend, optimization_level = 0)\n",
    "                    TT = time.time() - start_time\n",
    "                    result = execute(tqc0, Aer.get_backend('qasm_simulator'), coupling_map=coupling_map, basis_gates=basis_gates, noise_model=noise_model).result()\n",
    "                    RT = result.time_taken\n",
    "                    tempCost, tempGC = ComplexityFinder(tqc0)\n",
    "                    # listToAppend.append(result.get_counts())\n",
    "                    listToAppend = [tempCost, tempGC, 0, RT, TT]\n",
    "                    final.append(listToAppend)\n",
    "                    # print(tqc0)\n",
    "                    # print(listToAppend)\n",
    "\n",
    "                    # print(\"final \", final)\n",
    "\n",
    "                    # time.sleep(20)\n",
    "\n",
    "\n",
    "                    # tqcSim = transpile(qc, backend, optimization_level = 3)\n",
    "                    # result = execute(tqcSim, Aer.get_backend('qasm_simulator')).result()\n",
    "                    # listToAppend.append(result.get_counts())\n",
    "\n",
    "            bar.update(cost)"
   ]
  },
  {
   "cell_type": "code",
   "execution_count": 14,
   "id": "109fee9e-4b57-403b-9e7f-e0f0004804dd",
   "metadata": {},
   "outputs": [],
   "source": [
    "with open(r\"QMachineData/PerthDataSimTemp.csv\", 'w', newline='', encoding='UTF8') as f:\n",
    "    # create the csv writer\n",
    "    writer = csv.writer(f)\n",
    "    writer.writerow(fields)\n",
    "    writer.writerows(final)"
   ]
  },
  {
   "cell_type": "code",
   "execution_count": 15,
   "id": "b877b22c-9d0b-4ab5-93fc-c2839a1dd696",
   "metadata": {},
   "outputs": [],
   "source": [
    "df = pd.read_csv(\"QMachineData/PerthDataSimTemp.csv\")\n",
    "df.to_csv(\"QMachineData/PerthDataSim.csv\", mode='a', index=False, header=False)"
   ]
  },
  {
   "cell_type": "code",
   "execution_count": 16,
   "id": "f7b01bfb-172d-4d69-be28-2c903bbe6476",
   "metadata": {},
   "outputs": [
    {
     "data": {
      "text/plain": [
       "20100"
      ]
     },
     "execution_count": 16,
     "metadata": {},
     "output_type": "execute_result"
    }
   ],
   "source": [
    "len(final)"
   ]
  },
  {
   "cell_type": "code",
   "execution_count": null,
   "id": "0ff46115-28e7-4c91-8e1e-39d7c7ea88b0",
   "metadata": {},
   "outputs": [],
   "source": []
  }
 ],
 "metadata": {
  "kernelspec": {
   "display_name": "Python 3 (ipykernel)",
   "language": "python",
   "name": "python3"
  },
  "language_info": {
   "codemirror_mode": {
    "name": "ipython",
    "version": 3
   },
   "file_extension": ".py",
   "mimetype": "text/x-python",
   "name": "python",
   "nbconvert_exporter": "python",
   "pygments_lexer": "ipython3",
   "version": "3.9.12"
  },
  "vscode": {
   "interpreter": {
    "hash": "f915d80d67913e1242642b75a189b1c15ab30e78fa02b63258f0988597fbe860"
   }
  }
 },
 "nbformat": 4,
 "nbformat_minor": 5
}
