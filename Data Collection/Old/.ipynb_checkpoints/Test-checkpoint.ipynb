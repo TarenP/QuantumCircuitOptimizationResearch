{
 "cells": [
  {
   "cell_type": "code",
   "execution_count": 1,
   "id": "3cbad0d2-1887-417d-89f0-4a204ee7a456",
   "metadata": {},
   "outputs": [
    {
     "data": {
      "text/html": [
       "<pre style=\"word-wrap: normal;white-space: pre;background: #fff0;line-height: 1.1;font-family: &quot;Courier New&quot;,Courier,monospace\">     ┌───┐     ┌───┐┌───┐┌───┐┌───┐     \n",
       "q_0: ┤ Z ├──■──┤ Y ├┤ Z ├┤ Z ├┤ X ├─────\n",
       "     └───┘┌─┴─┐├───┤├───┤├───┤├───┤┌───┐\n",
       "q_1: ─────┤ X ├┤ X ├┤ Y ├┤ X ├┤ H ├┤ X ├\n",
       "     ┌───┐├───┤├───┤└───┘└─┬─┘├───┤├───┤\n",
       "q_2: ┤ Z ├┤ Y ├┤ H ├───────■──┤ H ├┤ H ├\n",
       "     └───┘└───┘└───┘          └───┘└───┘\n",
       "c: 3/═══════════════════════════════════\n",
       "                                        </pre>"
      ],
      "text/plain": [
       "     ┌───┐     ┌───┐┌───┐┌───┐┌───┐     \n",
       "q_0: ┤ Z ├──■──┤ Y ├┤ Z ├┤ Z ├┤ X ├─────\n",
       "     └───┘┌─┴─┐├───┤├───┤├───┤├───┤┌───┐\n",
       "q_1: ─────┤ X ├┤ X ├┤ Y ├┤ X ├┤ H ├┤ X ├\n",
       "     ┌───┐├───┤├───┤└───┘└─┬─┘├───┤├───┤\n",
       "q_2: ┤ Z ├┤ Y ├┤ H ├───────■──┤ H ├┤ H ├\n",
       "     └───┘└───┘└───┘          └───┘└───┘\n",
       "c: 3/═══════════════════════════════════\n",
       "                                        "
      ]
     },
     "execution_count": 1,
     "metadata": {},
     "output_type": "execute_result"
    }
   ],
   "source": [
    "from qcoptimizer import qcoptimizer\n",
    "from qiskit import *\n",
    "\n",
    "qc1 = QuantumCircuit(3, 3) #1 quantum, 1 classical\n",
    "\n",
    "qc1.z(0)\n",
    "qc1.cx(0,1)\n",
    "qc1.y(0)\n",
    "qc1.x(1)\n",
    "qc1.y(1)\n",
    "qc1.z(2)\n",
    "qc1.y(2)\n",
    "qc1.h(2)\n",
    "qc1.cx(2, 1)\n",
    "qc1.h(2)\n",
    "qc1.h(2)\n",
    "qc1.z(0)\n",
    "qc1.z(0)\n",
    "qc1.x(0)\n",
    "qc1.h(1)\n",
    "qc1.x(1)\n",
    "\n",
    "qc1.draw()"
   ]
  },
  {
   "cell_type": "code",
   "execution_count": 2,
   "id": "4d47de3b-831c-4802-9e43-968a70507be9",
   "metadata": {},
   "outputs": [
    {
     "name": "stdout",
     "output_type": "stream",
     "text": [
      "                   Target Replacement\n",
      "0                   h,z,h           x\n",
      "1                     z,y           y\n",
      "2                   y,y,y           y\n",
      "3                 h,h,z,y           y\n",
      "4                     z,h           h\n",
      "..                    ...         ...\n",
      "323  ('h', 'h', 'h', 'h')         NaN\n",
      "324                ('z',)         NaN\n",
      "325            ('z', 'z')         NaN\n",
      "326            ('h', 'h')         NaN\n",
      "327  ('y', 'y', 'y', 'y')         NaN\n",
      "\n",
      "[328 rows x 2 columns]\n",
      " \n",
      " \n",
      " \n",
      " \n",
      " \n",
      " \n",
      " \n",
      " \n",
      " \n",
      " \n",
      " \n",
      " \n",
      " \n",
      " \n",
      " \n",
      " \n",
      "0.0029921531677246094\n",
      "0.0019948482513427734\n",
      "Optimized QC is slower by: \n",
      "0.000997304916381836\n"
     ]
    }
   ],
   "source": [
    "qc = qcoptimizer.optimize(qc1)"
   ]
  },
  {
   "cell_type": "code",
   "execution_count": 3,
   "id": "419b253e-fa2f-4a22-b442-5daa27e2621b",
   "metadata": {},
   "outputs": [
    {
     "data": {
      "text/html": [
       "<pre style=\"word-wrap: normal;white-space: pre;background: #fff0;line-height: 1.1;font-family: &quot;Courier New&quot;,Courier,monospace\">     ┌───┐     ┌───┐┌───┐                            \n",
       "q_0: ┤ Z ├──■──┤ Y ├┤ X ├────────────────────────────\n",
       "     └───┘┌─┴─┐├───┤├───┤┌───┐┌───┐┌───┐             \n",
       "q_1: ─────┤ X ├┤ Z ├┤ H ├┤ Y ├┤ Z ├┤ X ├─────────────\n",
       "     ┌───┐├───┤└───┘└───┘└───┘└───┘└─┬─┘┌───┐┌───┐┌─┐\n",
       "q_2: ┤ Y ├┤ H ├──────────────────────■──┤ H ├┤ H ├┤M├\n",
       "     └───┘└───┘                         └───┘└───┘└╥┘\n",
       "c: 3/══════════════════════════════════════════════╩═\n",
       "                                                   2 </pre>"
      ],
      "text/plain": [
       "     ┌───┐     ┌───┐┌───┐                            \n",
       "q_0: ┤ Z ├──■──┤ Y ├┤ X ├────────────────────────────\n",
       "     └───┘┌─┴─┐├───┤├───┤┌───┐┌───┐┌───┐             \n",
       "q_1: ─────┤ X ├┤ Z ├┤ H ├┤ Y ├┤ Z ├┤ X ├─────────────\n",
       "     ┌───┐├───┤└───┘└───┘└───┘└───┘└─┬─┘┌───┐┌───┐┌─┐\n",
       "q_2: ┤ Y ├┤ H ├──────────────────────■──┤ H ├┤ H ├┤M├\n",
       "     └───┘└───┘                         └───┘└───┘└╥┘\n",
       "c: 3/══════════════════════════════════════════════╩═\n",
       "                                                   2 "
      ]
     },
     "execution_count": 3,
     "metadata": {},
     "output_type": "execute_result"
    }
   ],
   "source": [
    "qc.draw()"
   ]
  },
  {
   "cell_type": "code",
   "execution_count": 4,
   "id": "86425a43-8416-4d5e-82e0-3380cd06029b",
   "metadata": {},
   "outputs": [
    {
     "data": {
      "text/html": [
       "<pre style=\"word-wrap: normal;white-space: pre;background: #fff0;line-height: 1.1;font-family: &quot;Courier New&quot;,Courier,monospace\">     ┌───┐     ┌───┐┌───┐┌───┐┌───┐        \n",
       "q_0: ┤ Z ├──■──┤ Y ├┤ Z ├┤ Z ├┤ X ├────────\n",
       "     └───┘┌─┴─┐├───┤├───┤├───┤├───┤┌───┐   \n",
       "q_1: ─────┤ X ├┤ X ├┤ Y ├┤ X ├┤ H ├┤ X ├───\n",
       "     ┌───┐├───┤├───┤└───┘└─┬─┘├───┤├───┤┌─┐\n",
       "q_2: ┤ Z ├┤ Y ├┤ H ├───────■──┤ H ├┤ H ├┤M├\n",
       "     └───┘└───┘└───┘          └───┘└───┘└╥┘\n",
       "c: 3/════════════════════════════════════╩═\n",
       "                                         2 </pre>"
      ],
      "text/plain": [
       "     ┌───┐     ┌───┐┌───┐┌───┐┌───┐        \n",
       "q_0: ┤ Z ├──■──┤ Y ├┤ Z ├┤ Z ├┤ X ├────────\n",
       "     └───┘┌─┴─┐├───┤├───┤├───┤├───┤┌───┐   \n",
       "q_1: ─────┤ X ├┤ X ├┤ Y ├┤ X ├┤ H ├┤ X ├───\n",
       "     ┌───┐├───┤├───┤└───┘└─┬─┘├───┤├───┤┌─┐\n",
       "q_2: ┤ Z ├┤ Y ├┤ H ├───────■──┤ H ├┤ H ├┤M├\n",
       "     └───┘└───┘└───┘          └───┘└───┘└╥┘\n",
       "c: 3/════════════════════════════════════╩═\n",
       "                                         2 "
      ]
     },
     "execution_count": 4,
     "metadata": {},
     "output_type": "execute_result"
    }
   ],
   "source": [
    "qc1.draw()"
   ]
  },
  {
   "cell_type": "code",
   "execution_count": null,
   "id": "3b4acd2d-33ca-4c59-b0fa-d8ff1aeaf7f0",
   "metadata": {},
   "outputs": [],
   "source": []
  }
 ],
 "metadata": {
  "kernelspec": {
   "display_name": "Python 3 (ipykernel)",
   "language": "python",
   "name": "python3"
  },
  "language_info": {
   "codemirror_mode": {
    "name": "ipython",
    "version": 3
   },
   "file_extension": ".py",
   "mimetype": "text/x-python",
   "name": "python",
   "nbconvert_exporter": "python",
   "pygments_lexer": "ipython3",
   "version": "3.9.7"
  }
 },
 "nbformat": 4,
 "nbformat_minor": 5
}
