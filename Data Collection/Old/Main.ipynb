{
 "cells": [
  {
   "cell_type": "code",
   "execution_count": 12,
   "id": "58db5dbf-1ed9-4034-8c6d-2d125629ac41",
   "metadata": {},
   "outputs": [],
   "source": [
    "from qiskit import *\n",
    "import numpy as np\n",
    "import pandas as pd\n",
    "from qiskit.visualization import plot_bloch_multivector, plot_histogram, array_to_latex\n",
    "import csv\n",
    "import os\n",
    "sim = Aer.get_backend('qasm_simulator')\n",
    "from qiskit.tools.monitor import job_monitor\n",
    "from qiskit import IBMQ\n",
    "IBMQ.save_account('35b928a34f3c82fef0cb27f5a76e0b2c660e7ff461551308a1f597918a22843fd99465440401c8f30b0509ff309a642520a6c00403883be533a253a3f852cd1b')\n",
    "IBMQ.load_account()\n",
    "typeOfGates = ['x', 'y', 'z', 'h']"
   ]
  },
  {
   "cell_type": "markdown",
   "id": "0209adf2-4357-4d76-9e9f-41c0e7e38501",
   "metadata": {},
   "source": [
    "## Create Circuit"
   ]
  },
  {
   "cell_type": "code",
   "execution_count": 13,
   "id": "b19fb9fa-da9f-4009-bf8b-31c358b7f21b",
   "metadata": {},
   "outputs": [
    {
     "data": {
      "text/html": [
       "<pre style=\"word-wrap: normal;white-space: pre;background: #fff0;line-height: 1.1;font-family: &quot;Courier New&quot;,Courier,monospace\">     ┌───┐     ┌───┐┌───┐┌───┐┌───┐     \n",
       "q_0: ┤ Z ├──■──┤ Y ├┤ Z ├┤ Z ├┤ X ├─────\n",
       "     └───┘┌─┴─┐├───┤├───┤├───┤├───┤┌───┐\n",
       "q_1: ─────┤ X ├┤ X ├┤ Y ├┤ X ├┤ H ├┤ X ├\n",
       "     ┌───┐├───┤├───┤└───┘└─┬─┘├───┤├───┤\n",
       "q_2: ┤ Z ├┤ Y ├┤ H ├───────■──┤ H ├┤ H ├\n",
       "     └───┘└───┘└───┘          └───┘└───┘\n",
       "c: 3/═══════════════════════════════════\n",
       "                                        </pre>"
      ],
      "text/plain": [
       "     ┌───┐     ┌───┐┌───┐┌───┐┌───┐     \n",
       "q_0: ┤ Z ├──■──┤ Y ├┤ Z ├┤ Z ├┤ X ├─────\n",
       "     └───┘┌─┴─┐├───┤├───┤├───┤├───┤┌───┐\n",
       "q_1: ─────┤ X ├┤ X ├┤ Y ├┤ X ├┤ H ├┤ X ├\n",
       "     ┌───┐├───┤├───┤└───┘└─┬─┘├───┤├───┤\n",
       "q_2: ┤ Z ├┤ Y ├┤ H ├───────■──┤ H ├┤ H ├\n",
       "     └───┘└───┘└───┘          └───┘└───┘\n",
       "c: 3/═══════════════════════════════════\n",
       "                                        "
      ]
     },
     "execution_count": 13,
     "metadata": {},
     "output_type": "execute_result"
    }
   ],
   "source": [
    "qc1 = QuantumCircuit(3, 3) #1 quantum, 1 classical\n",
    "\n",
    "qc1.z(0)\n",
    "qc1.cx(0,1)\n",
    "qc1.y(0)\n",
    "qc1.x(1)\n",
    "qc1.y(1)\n",
    "qc1.z(2)\n",
    "qc1.y(2)\n",
    "qc1.h(2)\n",
    "qc1.cx(2, 1)\n",
    "qc1.h(2)\n",
    "qc1.h(2)\n",
    "qc1.z(0)\n",
    "qc1.z(0)\n",
    "qc1.x(0)\n",
    "qc1.h(1)\n",
    "qc1.x(1)\n",
    "\n",
    "qc1.draw()"
   ]
  },
  {
   "cell_type": "markdown",
   "id": "cb967657-8838-4e59-b3e1-2e3d088c9e35",
   "metadata": {},
   "source": [
    "## Circuit to DF"
   ]
  },
  {
   "cell_type": "code",
   "execution_count": 14,
   "id": "7db3f3a6-0de1-4f15-a186-daf6602e6d6c",
   "metadata": {},
   "outputs": [],
   "source": [
    "def QCtoDF(qc):\n",
    "    string = qc.qasm()\n",
    "    List = ()\n",
    "    circuit = string.split(';')\n",
    "    circuit = circuit[4:]\n",
    "    circuit.pop(len(circuit)-1)\n",
    "    #print(circuit)\n",
    "    with open(r\"Synonym_Database\\gates.csv\", 'w', newline='', encoding='UTF8') as f:\n",
    "        writer = csv.writer(f)\n",
    "        writer.writerow(['Gate', 'Qubit'])\n",
    "        for i in range(len(circuit)):\n",
    "            temp = ()\n",
    "            circuit[i] = circuit[i].replace(\"\\n\", '')\n",
    "            print(circuit[0][1])\n",
    "            temp = circuit[i].split(' ')\n",
    "            #temp[1] = temp[1].split(',')\n",
    "            for j in range(len(temp[1])):\n",
    "                 temp[1] = temp[1].replace(\"q[\", '')\n",
    "                 temp[1] = temp[1].replace(\"]\", '')\n",
    "            writer.writerow(temp)\n",
    "    df = pd.DataFrame(pd.read_csv(r\"Synonym_Database\\gates.csv\"))\n",
    "    return df"
   ]
  },
  {
   "cell_type": "markdown",
   "id": "5ad6ddff-9fb0-42c0-8b75-7082e35bb2e3",
   "metadata": {},
   "source": [
    "## Key to DF"
   ]
  },
  {
   "cell_type": "code",
   "execution_count": 15,
   "id": "8ea963e8-39cc-49be-a488-e9a7e3bd4e01",
   "metadata": {},
   "outputs": [],
   "source": [
    "#Clean up the data in csv to fit conventional list look\n",
    "def KeytoDF():\n",
    "    df = pd.read_csv(r\"Synonym_Database\\key.csv\")\n",
    "    for r in range(len(df)):\n",
    "        try:\n",
    "            df['Replacement'][r] = df['Replacement'][r].replace(\"('\", '')\n",
    "            df['Replacement'][r] = df['Replacement'][r].replace(\")\", '')\n",
    "            df['Replacement'][r] = df['Replacement'][r].replace(\"'\", '')\n",
    "            df['Replacement'][r] = df['Replacement'][r].replace(\" \", '')\n",
    "            temp1 = df['Replacement'][r].split(',')\n",
    "            for i in range(len(temp1)):\n",
    "                if temp1[i] == '':\n",
    "                    temp1.pop(i)\n",
    "                    df['Replacement'][r] = df['Replacement'][r].replace(\",\", '')\n",
    "            df['Target'][r] = df['Target'][r].replace(\"('\", '')\n",
    "            df['Target'][r] = df['Target'][r].replace(\")\", '')\n",
    "            df['Target'][r] = df['Target'][r].replace(\"'\", '')\n",
    "            df['Target'][r] = df['Target'][r].replace(\" \", '')\n",
    "            temp2 = df['Target'][r].split(',')\n",
    "            for i in range(len(temp2)):\n",
    "                if temp2[i] == '':\n",
    "                    temp2.pop(i)\n",
    "                    df['Target'][r] = df['Target'][r].replace(\",\", '')\n",
    "        except:\n",
    "            pass\n",
    "    return df"
   ]
  },
  {
   "cell_type": "code",
   "execution_count": 16,
   "id": "4f1e68d7-5d65-4367-b35c-b522ad6930a2",
   "metadata": {},
   "outputs": [],
   "source": [
    "#generate a list of the gates on a given qubit\n",
    "def GateList(qubitNum, qcDF):\n",
    "    lst = []\n",
    "    for i in range(len(qcDF)):\n",
    "        temp = []\n",
    "        try:\n",
    "            temp = qcDF['Qubit'][i].split(',')\n",
    "            if int(temp[0]) == qubitNum:\n",
    "                if qcDF['Gate'][i] == 'cx':\n",
    "                    temp.append(\"cx\")\n",
    "                    lst.append(temp)\n",
    "                else:\n",
    "                    lst.append(qcDF['Gate'][i])\n",
    "        except:\n",
    "            temp = qcDF['Qubit'][i]\n",
    "            if int(temp) == qubitNum:\n",
    "                lst.append(qcDF['Gate'][i])\n",
    "    return lst"
   ]
  },
  {
   "cell_type": "code",
   "execution_count": 17,
   "id": "e5030c24-609b-4141-9784-3ba444178f8f",
   "metadata": {},
   "outputs": [],
   "source": [
    "def Optimize(qcDF, keyDF, qubitGates, typeOfGates):\n",
    "    final = []\n",
    "    for i in qubitGates:\n",
    "        temp = []\n",
    "        qubit = []\n",
    "        for r in i:\n",
    "            if r in typeOfGates:\n",
    "                temp.append(r)\n",
    "            else:\n",
    "                qubit.append(temp)\n",
    "                temp = []\n",
    "                qubit.append([r])\n",
    "            #if greater than 4 items in list, check which list split will lead to the best compute time and fewest gates\n",
    "            if len(temp) >=4:\n",
    "                qubit.append(temp)\n",
    "                temp = []\n",
    "        qubit.append(temp)\n",
    "        final.append(qubit)\n",
    "    \n",
    "    #qubit\n",
    "    for n in range(len(final)):\n",
    "        #gate combinations in qubit\n",
    "        for i in range(len(final[n])):\n",
    "                #crossreference each target in df with gate combo\n",
    "                for j in range(len(keyDF)):\n",
    "                    if keyDF['Target'][j].split(',') == final[n][i]:\n",
    "                        #if they are equal set the gate combo in final list = to replacement synonym\n",
    "                        final[n][i] = keyDF['Replacement'][j].split(',')\n",
    "\n",
    "    #create circuit\n",
    "    qc = QuantumCircuit(len(final), len(final))\n",
    "    for qubit in range(len(final)):\n",
    "        for g in range(len(final[qubit])):\n",
    "            for j in final[qubit][g]:\n",
    "                if len(j) > 1:\n",
    "                    getattr(qc , j[2])(int(j[0]), int(j[1]))\n",
    "                else:\n",
    "                    getattr(qc , j)(qubit)\n",
    "    return qc\n",
    "\n",
    "    "
   ]
  },
  {
   "cell_type": "code",
   "execution_count": 18,
   "id": "7e92b440-9877-4aa9-bf24-5598b268d2be",
   "metadata": {},
   "outputs": [],
   "source": [
    "def checker(qc, size):\n",
    "    qc.measure(size-1, size-1)\n",
    "    provider = IBMQ.get_provider('ibm-q')\n",
    "    backend = provider.get_backend('ibm_oslo')\n",
    "    job = execute(qc, backend=backend)\n",
    "    job_monitor(job)\n",
    "    result = job.result()\n",
    "    #plot_histogram(counts)\n",
    "    return result.time_taken"
   ]
  },
  {
   "cell_type": "markdown",
   "id": "daf614ad-088a-4ab4-8ac5-a6bc9d822c18",
   "metadata": {},
   "source": [
    "## Synonym Algorithm"
   ]
  },
  {
   "cell_type": "code",
   "execution_count": 19,
   "id": "32b607e0-d975-42d6-8584-9e9e9eb853fa",
   "metadata": {},
   "outputs": [],
   "source": [
    "def Main(qc):\n",
    "    keyDF = KeytoDF()\n",
    "    print(keyDF)\n",
    "    qcDF = QCtoDF(qc)\n",
    "    qubitGates = []\n",
    "    for i in range(len(qc.qubits)):\n",
    "        qubitGates.append(GateList(i, qcDF))\n",
    "    qc1 = Optimize(qcDF, keyDF, qubitGates, typeOfGates)\n",
    "    #print(qc)\n",
    "    c1 = checker(qc1, len(qc1.qubits))\n",
    "    c2 = checker(qc, len(qc.qubits))\n",
    "    print(c1)\n",
    "    print(c2)\n",
    "    if c1 < c2:\n",
    "        print(\"Optimized QC is faster by: \")\n",
    "        print(c2-c1)\n",
    "        \n",
    "    else:\n",
    "        print(\"Optimized QC is slower by: \")\n",
    "        print(c1-c2)\n",
    "    \n",
    "    return qc1\n",
    "        \n",
    "    "
   ]
  },
  {
   "cell_type": "code",
   "execution_count": 20,
   "id": "b33bd10d-ab2c-4a1d-aa0b-ff0326f47564",
   "metadata": {},
   "outputs": [
    {
     "name": "stdout",
     "output_type": "stream",
     "text": [
      "                   Target Replacement\n",
      "0                   x,x,y           y\n",
      "1                 y,x,z,x           y\n",
      "2              ('y', 'y')         NaN\n",
      "3                   z,z,h           h\n",
      "4              ('x', 'x')         NaN\n",
      "..                    ...         ...\n",
      "323  ('y', 'h', 'h', 'y')         NaN\n",
      "324  ('h', 'z', 'z', 'h')         NaN\n",
      "325                ('z',)         NaN\n",
      "326       ('h', 'h', 'z')         NaN\n",
      "327  ('h', 'x', 'x', 'h')         NaN\n",
      "\n",
      "[328 rows x 2 columns]\n",
      " \n",
      " \n",
      " \n",
      " \n",
      " \n",
      " \n",
      " \n",
      " \n",
      " \n",
      " \n",
      " \n",
      " \n",
      " \n",
      " \n",
      " \n",
      " \n",
      " \n"
     ]
    },
    {
     "ename": "ParserError",
     "evalue": "Error tokenizing data. C error: Expected 2 fields in line 18, saw 4\n",
     "output_type": "error",
     "traceback": [
      "\u001b[1;31m---------------------------------------------------------------------------\u001b[0m",
      "\u001b[1;31mParserError\u001b[0m                               Traceback (most recent call last)",
      "\u001b[1;32m~\\AppData\\Local\\Temp/ipykernel_20404/3600009511.py\u001b[0m in \u001b[0;36m<module>\u001b[1;34m\u001b[0m\n\u001b[1;32m----> 1\u001b[1;33m \u001b[0mqc\u001b[0m \u001b[1;33m=\u001b[0m \u001b[0mMain\u001b[0m\u001b[1;33m(\u001b[0m\u001b[0mqc1\u001b[0m\u001b[1;33m)\u001b[0m\u001b[1;33m\u001b[0m\u001b[1;33m\u001b[0m\u001b[0m\n\u001b[0m\u001b[0;32m      2\u001b[0m \u001b[1;31m#looping, fix synonym key list to have simples replacements\u001b[0m\u001b[1;33m\u001b[0m\u001b[1;33m\u001b[0m\u001b[0m\n",
      "\u001b[1;32m~\\AppData\\Local\\Temp/ipykernel_20404/2801027093.py\u001b[0m in \u001b[0;36mMain\u001b[1;34m(qc)\u001b[0m\n\u001b[0;32m      2\u001b[0m     \u001b[0mkeyDF\u001b[0m \u001b[1;33m=\u001b[0m \u001b[0mKeytoDF\u001b[0m\u001b[1;33m(\u001b[0m\u001b[1;33m)\u001b[0m\u001b[1;33m\u001b[0m\u001b[1;33m\u001b[0m\u001b[0m\n\u001b[0;32m      3\u001b[0m     \u001b[0mprint\u001b[0m\u001b[1;33m(\u001b[0m\u001b[0mkeyDF\u001b[0m\u001b[1;33m)\u001b[0m\u001b[1;33m\u001b[0m\u001b[1;33m\u001b[0m\u001b[0m\n\u001b[1;32m----> 4\u001b[1;33m     \u001b[0mqcDF\u001b[0m \u001b[1;33m=\u001b[0m \u001b[0mQCtoDF\u001b[0m\u001b[1;33m(\u001b[0m\u001b[0mqc\u001b[0m\u001b[1;33m)\u001b[0m\u001b[1;33m\u001b[0m\u001b[1;33m\u001b[0m\u001b[0m\n\u001b[0m\u001b[0;32m      5\u001b[0m     \u001b[0mqubitGates\u001b[0m \u001b[1;33m=\u001b[0m \u001b[1;33m[\u001b[0m\u001b[1;33m]\u001b[0m\u001b[1;33m\u001b[0m\u001b[1;33m\u001b[0m\u001b[0m\n\u001b[0;32m      6\u001b[0m     \u001b[1;32mfor\u001b[0m \u001b[0mi\u001b[0m \u001b[1;32min\u001b[0m \u001b[0mrange\u001b[0m\u001b[1;33m(\u001b[0m\u001b[0mlen\u001b[0m\u001b[1;33m(\u001b[0m\u001b[0mqc\u001b[0m\u001b[1;33m.\u001b[0m\u001b[0mqubits\u001b[0m\u001b[1;33m)\u001b[0m\u001b[1;33m)\u001b[0m\u001b[1;33m:\u001b[0m\u001b[1;33m\u001b[0m\u001b[1;33m\u001b[0m\u001b[0m\n",
      "\u001b[1;32m~\\AppData\\Local\\Temp/ipykernel_20404/57822774.py\u001b[0m in \u001b[0;36mQCtoDF\u001b[1;34m(qc)\u001b[0m\n\u001b[0;32m     19\u001b[0m                  \u001b[0mtemp\u001b[0m\u001b[1;33m[\u001b[0m\u001b[1;36m1\u001b[0m\u001b[1;33m]\u001b[0m \u001b[1;33m=\u001b[0m \u001b[0mtemp\u001b[0m\u001b[1;33m[\u001b[0m\u001b[1;36m1\u001b[0m\u001b[1;33m]\u001b[0m\u001b[1;33m.\u001b[0m\u001b[0mreplace\u001b[0m\u001b[1;33m(\u001b[0m\u001b[1;34m\"]\"\u001b[0m\u001b[1;33m,\u001b[0m \u001b[1;34m''\u001b[0m\u001b[1;33m)\u001b[0m\u001b[1;33m\u001b[0m\u001b[1;33m\u001b[0m\u001b[0m\n\u001b[0;32m     20\u001b[0m             \u001b[0mwriter\u001b[0m\u001b[1;33m.\u001b[0m\u001b[0mwriterow\u001b[0m\u001b[1;33m(\u001b[0m\u001b[0mtemp\u001b[0m\u001b[1;33m)\u001b[0m\u001b[1;33m\u001b[0m\u001b[1;33m\u001b[0m\u001b[0m\n\u001b[1;32m---> 21\u001b[1;33m     \u001b[0mdf\u001b[0m \u001b[1;33m=\u001b[0m \u001b[0mpd\u001b[0m\u001b[1;33m.\u001b[0m\u001b[0mDataFrame\u001b[0m\u001b[1;33m(\u001b[0m\u001b[0mpd\u001b[0m\u001b[1;33m.\u001b[0m\u001b[0mread_csv\u001b[0m\u001b[1;33m(\u001b[0m\u001b[1;34mr\"Synonym_Database\\gates.csv\"\u001b[0m\u001b[1;33m)\u001b[0m\u001b[1;33m)\u001b[0m\u001b[1;33m\u001b[0m\u001b[1;33m\u001b[0m\u001b[0m\n\u001b[0m\u001b[0;32m     22\u001b[0m     \u001b[1;32mreturn\u001b[0m \u001b[0mdf\u001b[0m\u001b[1;33m\u001b[0m\u001b[1;33m\u001b[0m\u001b[0m\n",
      "\u001b[1;32m~\\anaconda3\\lib\\site-packages\\pandas\\util\\_decorators.py\u001b[0m in \u001b[0;36mwrapper\u001b[1;34m(*args, **kwargs)\u001b[0m\n\u001b[0;32m    309\u001b[0m                     \u001b[0mstacklevel\u001b[0m\u001b[1;33m=\u001b[0m\u001b[0mstacklevel\u001b[0m\u001b[1;33m,\u001b[0m\u001b[1;33m\u001b[0m\u001b[1;33m\u001b[0m\u001b[0m\n\u001b[0;32m    310\u001b[0m                 )\n\u001b[1;32m--> 311\u001b[1;33m             \u001b[1;32mreturn\u001b[0m \u001b[0mfunc\u001b[0m\u001b[1;33m(\u001b[0m\u001b[1;33m*\u001b[0m\u001b[0margs\u001b[0m\u001b[1;33m,\u001b[0m \u001b[1;33m**\u001b[0m\u001b[0mkwargs\u001b[0m\u001b[1;33m)\u001b[0m\u001b[1;33m\u001b[0m\u001b[1;33m\u001b[0m\u001b[0m\n\u001b[0m\u001b[0;32m    312\u001b[0m \u001b[1;33m\u001b[0m\u001b[0m\n\u001b[0;32m    313\u001b[0m         \u001b[1;32mreturn\u001b[0m \u001b[0mwrapper\u001b[0m\u001b[1;33m\u001b[0m\u001b[1;33m\u001b[0m\u001b[0m\n",
      "\u001b[1;32m~\\anaconda3\\lib\\site-packages\\pandas\\io\\parsers\\readers.py\u001b[0m in \u001b[0;36mread_csv\u001b[1;34m(filepath_or_buffer, sep, delimiter, header, names, index_col, usecols, squeeze, prefix, mangle_dupe_cols, dtype, engine, converters, true_values, false_values, skipinitialspace, skiprows, skipfooter, nrows, na_values, keep_default_na, na_filter, verbose, skip_blank_lines, parse_dates, infer_datetime_format, keep_date_col, date_parser, dayfirst, cache_dates, iterator, chunksize, compression, thousands, decimal, lineterminator, quotechar, quoting, doublequote, escapechar, comment, encoding, encoding_errors, dialect, error_bad_lines, warn_bad_lines, on_bad_lines, delim_whitespace, low_memory, memory_map, float_precision, storage_options)\u001b[0m\n\u001b[0;32m    584\u001b[0m     \u001b[0mkwds\u001b[0m\u001b[1;33m.\u001b[0m\u001b[0mupdate\u001b[0m\u001b[1;33m(\u001b[0m\u001b[0mkwds_defaults\u001b[0m\u001b[1;33m)\u001b[0m\u001b[1;33m\u001b[0m\u001b[1;33m\u001b[0m\u001b[0m\n\u001b[0;32m    585\u001b[0m \u001b[1;33m\u001b[0m\u001b[0m\n\u001b[1;32m--> 586\u001b[1;33m     \u001b[1;32mreturn\u001b[0m \u001b[0m_read\u001b[0m\u001b[1;33m(\u001b[0m\u001b[0mfilepath_or_buffer\u001b[0m\u001b[1;33m,\u001b[0m \u001b[0mkwds\u001b[0m\u001b[1;33m)\u001b[0m\u001b[1;33m\u001b[0m\u001b[1;33m\u001b[0m\u001b[0m\n\u001b[0m\u001b[0;32m    587\u001b[0m \u001b[1;33m\u001b[0m\u001b[0m\n\u001b[0;32m    588\u001b[0m \u001b[1;33m\u001b[0m\u001b[0m\n",
      "\u001b[1;32m~\\anaconda3\\lib\\site-packages\\pandas\\io\\parsers\\readers.py\u001b[0m in \u001b[0;36m_read\u001b[1;34m(filepath_or_buffer, kwds)\u001b[0m\n\u001b[0;32m    486\u001b[0m \u001b[1;33m\u001b[0m\u001b[0m\n\u001b[0;32m    487\u001b[0m     \u001b[1;32mwith\u001b[0m \u001b[0mparser\u001b[0m\u001b[1;33m:\u001b[0m\u001b[1;33m\u001b[0m\u001b[1;33m\u001b[0m\u001b[0m\n\u001b[1;32m--> 488\u001b[1;33m         \u001b[1;32mreturn\u001b[0m \u001b[0mparser\u001b[0m\u001b[1;33m.\u001b[0m\u001b[0mread\u001b[0m\u001b[1;33m(\u001b[0m\u001b[0mnrows\u001b[0m\u001b[1;33m)\u001b[0m\u001b[1;33m\u001b[0m\u001b[1;33m\u001b[0m\u001b[0m\n\u001b[0m\u001b[0;32m    489\u001b[0m \u001b[1;33m\u001b[0m\u001b[0m\n\u001b[0;32m    490\u001b[0m \u001b[1;33m\u001b[0m\u001b[0m\n",
      "\u001b[1;32m~\\anaconda3\\lib\\site-packages\\pandas\\io\\parsers\\readers.py\u001b[0m in \u001b[0;36mread\u001b[1;34m(self, nrows)\u001b[0m\n\u001b[0;32m   1045\u001b[0m     \u001b[1;32mdef\u001b[0m \u001b[0mread\u001b[0m\u001b[1;33m(\u001b[0m\u001b[0mself\u001b[0m\u001b[1;33m,\u001b[0m \u001b[0mnrows\u001b[0m\u001b[1;33m=\u001b[0m\u001b[1;32mNone\u001b[0m\u001b[1;33m)\u001b[0m\u001b[1;33m:\u001b[0m\u001b[1;33m\u001b[0m\u001b[1;33m\u001b[0m\u001b[0m\n\u001b[0;32m   1046\u001b[0m         \u001b[0mnrows\u001b[0m \u001b[1;33m=\u001b[0m \u001b[0mvalidate_integer\u001b[0m\u001b[1;33m(\u001b[0m\u001b[1;34m\"nrows\"\u001b[0m\u001b[1;33m,\u001b[0m \u001b[0mnrows\u001b[0m\u001b[1;33m)\u001b[0m\u001b[1;33m\u001b[0m\u001b[1;33m\u001b[0m\u001b[0m\n\u001b[1;32m-> 1047\u001b[1;33m         \u001b[0mindex\u001b[0m\u001b[1;33m,\u001b[0m \u001b[0mcolumns\u001b[0m\u001b[1;33m,\u001b[0m \u001b[0mcol_dict\u001b[0m \u001b[1;33m=\u001b[0m \u001b[0mself\u001b[0m\u001b[1;33m.\u001b[0m\u001b[0m_engine\u001b[0m\u001b[1;33m.\u001b[0m\u001b[0mread\u001b[0m\u001b[1;33m(\u001b[0m\u001b[0mnrows\u001b[0m\u001b[1;33m)\u001b[0m\u001b[1;33m\u001b[0m\u001b[1;33m\u001b[0m\u001b[0m\n\u001b[0m\u001b[0;32m   1048\u001b[0m \u001b[1;33m\u001b[0m\u001b[0m\n\u001b[0;32m   1049\u001b[0m         \u001b[1;32mif\u001b[0m \u001b[0mindex\u001b[0m \u001b[1;32mis\u001b[0m \u001b[1;32mNone\u001b[0m\u001b[1;33m:\u001b[0m\u001b[1;33m\u001b[0m\u001b[1;33m\u001b[0m\u001b[0m\n",
      "\u001b[1;32m~\\anaconda3\\lib\\site-packages\\pandas\\io\\parsers\\c_parser_wrapper.py\u001b[0m in \u001b[0;36mread\u001b[1;34m(self, nrows)\u001b[0m\n\u001b[0;32m    221\u001b[0m         \u001b[1;32mtry\u001b[0m\u001b[1;33m:\u001b[0m\u001b[1;33m\u001b[0m\u001b[1;33m\u001b[0m\u001b[0m\n\u001b[0;32m    222\u001b[0m             \u001b[1;32mif\u001b[0m \u001b[0mself\u001b[0m\u001b[1;33m.\u001b[0m\u001b[0mlow_memory\u001b[0m\u001b[1;33m:\u001b[0m\u001b[1;33m\u001b[0m\u001b[1;33m\u001b[0m\u001b[0m\n\u001b[1;32m--> 223\u001b[1;33m                 \u001b[0mchunks\u001b[0m \u001b[1;33m=\u001b[0m \u001b[0mself\u001b[0m\u001b[1;33m.\u001b[0m\u001b[0m_reader\u001b[0m\u001b[1;33m.\u001b[0m\u001b[0mread_low_memory\u001b[0m\u001b[1;33m(\u001b[0m\u001b[0mnrows\u001b[0m\u001b[1;33m)\u001b[0m\u001b[1;33m\u001b[0m\u001b[1;33m\u001b[0m\u001b[0m\n\u001b[0m\u001b[0;32m    224\u001b[0m                 \u001b[1;31m# destructive to chunks\u001b[0m\u001b[1;33m\u001b[0m\u001b[1;33m\u001b[0m\u001b[0m\n\u001b[0;32m    225\u001b[0m                 \u001b[0mdata\u001b[0m \u001b[1;33m=\u001b[0m \u001b[0m_concatenate_chunks\u001b[0m\u001b[1;33m(\u001b[0m\u001b[0mchunks\u001b[0m\u001b[1;33m)\u001b[0m\u001b[1;33m\u001b[0m\u001b[1;33m\u001b[0m\u001b[0m\n",
      "\u001b[1;32m~\\anaconda3\\lib\\site-packages\\pandas\\_libs\\parsers.pyx\u001b[0m in \u001b[0;36mpandas._libs.parsers.TextReader.read_low_memory\u001b[1;34m()\u001b[0m\n",
      "\u001b[1;32m~\\anaconda3\\lib\\site-packages\\pandas\\_libs\\parsers.pyx\u001b[0m in \u001b[0;36mpandas._libs.parsers.TextReader._read_rows\u001b[1;34m()\u001b[0m\n",
      "\u001b[1;32m~\\anaconda3\\lib\\site-packages\\pandas\\_libs\\parsers.pyx\u001b[0m in \u001b[0;36mpandas._libs.parsers.TextReader._tokenize_rows\u001b[1;34m()\u001b[0m\n",
      "\u001b[1;32m~\\anaconda3\\lib\\site-packages\\pandas\\_libs\\parsers.pyx\u001b[0m in \u001b[0;36mpandas._libs.parsers.raise_parser_error\u001b[1;34m()\u001b[0m\n",
      "\u001b[1;31mParserError\u001b[0m: Error tokenizing data. C error: Expected 2 fields in line 18, saw 4\n"
     ]
    }
   ],
   "source": [
    "qc = Main(qc1)\n",
    "#looping, fix synonym key list to have simples replacements"
   ]
  }
 ],
 "metadata": {
  "kernelspec": {
   "display_name": "Python 3 (ipykernel)",
   "language": "python",
   "name": "python3"
  },
  "language_info": {
   "codemirror_mode": {
    "name": "ipython",
    "version": 3
   },
   "file_extension": ".py",
   "mimetype": "text/x-python",
   "name": "python",
   "nbconvert_exporter": "python",
   "pygments_lexer": "ipython3",
   "version": "3.9.12"
  }
 },
 "nbformat": 4,
 "nbformat_minor": 5
}
