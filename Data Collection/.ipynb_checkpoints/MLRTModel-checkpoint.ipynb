{
 "cells": [
  {
   "cell_type": "markdown",
   "id": "45104ef3-8d36-4d28-b39e-49f3eec8de3e",
   "metadata": {},
   "source": [
    "#### This script is a testing ground for different types of machine learning models and their accuracy on predicting the time it would take to run the circuit in question."
   ]
  },
  {
   "cell_type": "code",
   "execution_count": 1,
   "id": "082e85c4-de18-452b-848e-ad47cfe76287",
   "metadata": {},
   "outputs": [
    {
     "name": "stderr",
     "output_type": "stream",
     "text": [
      "C:\\Users\\taren\\anaconda3\\lib\\site-packages\\qiskit\\providers\\aer\\noise\\device\\models.py:264: UserWarning: Device model returned an invalid T_2 relaxation time greater than the theoretical maximum value 2 * T_1 (186064.81242819485 > 2 * 89549.87196202418). Truncating to maximum value.\n",
      "  warn(\"Device model returned an invalid T_2 relaxation time greater than\"\n",
      "C:\\Users\\taren\\anaconda3\\lib\\site-packages\\qiskit\\providers\\aer\\noise\\device\\models.py:264: UserWarning: Device model returned an invalid T_2 relaxation time greater than the theoretical maximum value 2 * T_1 (186064.81242819485 > 2 * 89549.87196202418). Truncating to maximum value.\n",
      "  warn(\"Device model returned an invalid T_2 relaxation time greater than\"\n",
      "C:\\Users\\taren\\anaconda3\\lib\\site-packages\\qiskit\\providers\\aer\\noise\\device\\models.py:264: UserWarning: Device model returned an invalid T_2 relaxation time greater than the theoretical maximum value 2 * T_1 (186064.81242819485 > 2 * 89549.87196202418). Truncating to maximum value.\n",
      "  warn(\"Device model returned an invalid T_2 relaxation time greater than\"\n",
      "C:\\Users\\taren\\anaconda3\\lib\\site-packages\\qiskit\\providers\\aer\\noise\\device\\models.py:264: UserWarning: Device model returned an invalid T_2 relaxation time greater than the theoretical maximum value 2 * T_1 (186064.81242819485 > 2 * 89549.87196202418). Truncating to maximum value.\n",
      "  warn(\"Device model returned an invalid T_2 relaxation time greater than\"\n",
      "C:\\Users\\taren\\anaconda3\\lib\\site-packages\\qiskit\\providers\\aer\\noise\\device\\models.py:264: UserWarning: Device model returned an invalid T_2 relaxation time greater than the theoretical maximum value 2 * T_1 (186064.81242819485 > 2 * 89549.87196202418). Truncating to maximum value.\n",
      "  warn(\"Device model returned an invalid T_2 relaxation time greater than\"\n",
      "C:\\Users\\taren\\anaconda3\\lib\\site-packages\\qiskit\\providers\\aer\\noise\\device\\models.py:264: UserWarning: Device model returned an invalid T_2 relaxation time greater than the theoretical maximum value 2 * T_1 (186064.81242819485 > 2 * 89549.87196202418). Truncating to maximum value.\n",
      "  warn(\"Device model returned an invalid T_2 relaxation time greater than\"\n",
      "C:\\Users\\taren\\anaconda3\\lib\\site-packages\\qiskit\\providers\\aer\\noise\\device\\models.py:264: UserWarning: Device model returned an invalid T_2 relaxation time greater than the theoretical maximum value 2 * T_1 (186064.81242819485 > 2 * 89549.87196202418). Truncating to maximum value.\n",
      "  warn(\"Device model returned an invalid T_2 relaxation time greater than\"\n",
      "C:\\Users\\taren\\anaconda3\\lib\\site-packages\\qiskit\\providers\\aer\\noise\\device\\models.py:264: UserWarning: Device model returned an invalid T_2 relaxation time greater than the theoretical maximum value 2 * T_1 (186064.81242819485 > 2 * 89549.87196202418). Truncating to maximum value.\n",
      "  warn(\"Device model returned an invalid T_2 relaxation time greater than\"\n",
      "C:\\Users\\taren\\anaconda3\\lib\\site-packages\\qiskit\\providers\\aer\\noise\\device\\models.py:264: UserWarning: Device model returned an invalid T_2 relaxation time greater than the theoretical maximum value 2 * T_1 (0.00018606481242819484 > 2 * 8.954987196202417e-05). Truncating to maximum value.\n",
      "  warn(\"Device model returned an invalid T_2 relaxation time greater than\"\n"
     ]
    }
   ],
   "source": [
    "from qiskit import *\n",
    "import pandas as pd\n",
    "from qiskit import transpile\n",
    "import random\n",
    "import csv\n",
    "import numpy as np\n",
    "from qiskit.providers.aer import AerSimulator\n",
    "import time\n",
    "import itertools\n",
    "import random\n",
    "import progressbar\n",
    "import pathlib\n",
    "from IPython.display import clear_output\n",
    "from qiskit.tools.monitor import job_monitor\n",
    "\n",
    "from qiskit import IBMQ, Aer\n",
    "from qiskit.providers.aer.noise import NoiseModel\n",
    "provider = IBMQ.load_account()\n",
    "# IBMQ.load_account()\n",
    "provider = IBMQ.get_provider(hub = '********', group = '********', project = 'main')\n",
    "backend = provider.get_backend('ibm_perth')\n",
    "\n",
    "qubitCount = 7\n",
    "\n",
    "noise_model = NoiseModel.from_backend(backend)\n",
    "\n",
    "# Get coupling map from backend\n",
    "coupling_map = backend.configuration().coupling_map\n",
    "\n",
    "# Get basis gates from noise model\n",
    "basis_gates = noise_model.basis_gates\n",
    "\n",
    "Gates = ['rz', 'rx', 'ry', 'sx', 'x', 'y', 'z', 'h', 'cx', 'swap']\n",
    "gateCosts = [1, 1, 1, 1, 1, 1, 1, 2, 5, 11]"
   ]
  },
  {
   "cell_type": "code",
   "execution_count": 2,
   "id": "11493197-7d57-42f3-a8ab-8baf22478888",
   "metadata": {},
   "outputs": [],
   "source": [
    "def ComplexityFinder(qc):\n",
    "    df = QCtoDF(qc)\n",
    "    depth = depthFinder(df)\n",
    "    #Get Cost\n",
    "    cost = 0\n",
    "    for i in df['Gate']:\n",
    "        if i in Gates:\n",
    "            cost += int(gateCosts[Gates.index(i)])\n",
    "        else:\n",
    "            cost += int(gateCosts[Gates.index(i[:2])])\n",
    "        \n",
    "    return cost, depth"
   ]
  },
  {
   "cell_type": "code",
   "execution_count": 3,
   "id": "dd1134ee-dee7-470b-bd4f-bea4dbc26d0c",
   "metadata": {},
   "outputs": [],
   "source": [
    "def QCtoDF(qc):\n",
    "    string = qc.qasm()\n",
    "    circuit = string.split(';')\n",
    "    #Changed to 3: from 4:\n",
    "    circuit = circuit[3:]\n",
    "    circuit.pop(len(circuit)-1)\n",
    "    #print(circuit)\n",
    "    with open(r\"gatesTemp.csv\", 'w', newline='', encoding='UTF8') as f:\n",
    "        writer = csv.writer(f)\n",
    "        writer.writerow(['Gate', 'Qubit'])\n",
    "        for i in range(len(circuit)):            \n",
    "            circuit[i] = circuit[i].replace(\"\\n\", '')\n",
    "            #print(circuit[0][1])\n",
    "            temp = circuit[i].split(' ')\n",
    "            #temp[1] = temp[1].split(',')\n",
    "            for j in range(len(temp[1])):\n",
    "                 temp[1] = temp[1].replace(\"q[\", '')\n",
    "                 temp[1] = temp[1].replace(\"]\", '')\n",
    "            if temp[0] != 'measure' and temp[0] != 'barrier' and temp[0] != 'creg':\n",
    "                writer.writerow(temp)\n",
    "    df = pd.DataFrame(pd.read_csv(r\"gatesTemp.csv\"))\n",
    "    return df"
   ]
  },
  {
   "cell_type": "code",
   "execution_count": 4,
   "id": "2bc5a148-06c7-4dd8-9cf8-0b550f71bc78",
   "metadata": {},
   "outputs": [],
   "source": [
    "def unique(list1):\n",
    "  \n",
    "    # initialize a null list\n",
    "    unique_list = []\n",
    "  \n",
    "    # traverse for all elements\n",
    "    for x in list1:\n",
    "        # check if exists in unique_list or not\n",
    "        if x not in unique_list:\n",
    "            unique_list.append(x)\n",
    "    return(unique_list)\n"
   ]
  },
  {
   "cell_type": "code",
   "execution_count": 5,
   "id": "c9a9ffff-e306-4df0-8dba-03250d95d4d7",
   "metadata": {},
   "outputs": [],
   "source": [
    "def depthFinder(df):\n",
    "    qubits = df['Qubit'].value_counts()\n",
    "    qubits = dict(qubits)\n",
    "    lst = list(qubits.items())\n",
    "    #get depth\n",
    "    if len(lst) > 1:\n",
    "        qnum = []\n",
    "        for j in range(len(lst)):\n",
    "            strList = str(lst[j][0]).split(',')\n",
    "            qnum.append(strList[0])\n",
    "        qnum = unique(qnum)\n",
    "        counts = []\n",
    "        for num in qnum:\n",
    "            for j in range(len(lst)):\n",
    "                strList = str(lst[j][0]).split(',')\n",
    "                if strList[0] == num:\n",
    "                    for times in range(lst[j][1]):\n",
    "                        counts.append(strList[0])\n",
    "        return len(counts) \n",
    "    elif len(lst) > 0:\n",
    "        return(lst[0][1])\n",
    "    else:\n",
    "        return(0)"
   ]
  },
  {
   "cell_type": "code",
   "execution_count": 6,
   "id": "2968a13f-0aa2-4679-81a6-2753853c4a43",
   "metadata": {},
   "outputs": [],
   "source": [
    "import pandas as pd\n",
    "import numpy as np\n",
    "import matplotlib.pyplot as plt\n",
    "from sklearn.model_selection import train_test_split\n",
    "from sklearn.linear_model import LogisticRegression\n",
    "from sklearn import metrics\n",
    "from sklearn import tree\n",
    "from sklearn import linear_model\n",
    "from sklearn.linear_model import Ridge\n",
    "from sklearn.linear_model import LinearRegression\n",
    "import pickle\n",
    "# import the regressor\n",
    "from sklearn.tree import DecisionTreeRegressor "
   ]
  },
  {
   "cell_type": "code",
   "execution_count": 7,
   "id": "fd205847-29c4-42bd-b2e9-290bbfca0363",
   "metadata": {},
   "outputs": [],
   "source": [
    "dataFile = \"QMachineData//PerthDataSim.csv\"\n",
    "df = pd.read_csv(dataFile)"
   ]
  },
  {
   "cell_type": "code",
   "execution_count": 8,
   "id": "902d2ca1-81a8-4e2e-9103-626ecb4aec13",
   "metadata": {},
   "outputs": [],
   "source": [
    "# headerList = ['Cost', 'Gate Count', 'Optimization Level', 'Runtime', 'Transpile Time']\n",
    "  \n",
    "# # converting data frame to csv\n",
    "# df.to_csv(\"QMachineData//PerthDataSim.csv\", header=headerList, index=False)\n",
    "  "
   ]
  },
  {
   "cell_type": "code",
   "execution_count": 20,
   "id": "b5f1678e-4a13-407c-90ae-b4f016799f63",
   "metadata": {},
   "outputs": [
    {
     "name": "stdout",
     "output_type": "stream",
     "text": [
      "[7, 7, 1, 0.07748937606811523, 0.009499073028564453]\n",
      "[7, 7, 2, 0.08852291107177734, 0.016473770141601562]\n"
     ]
    }
   ],
   "source": [
    "qc = QuantumCircuit(7)\n",
    "qc.x(0)\n",
    "qc.y(6)\n",
    "qc.h(1)\n",
    "qc.h(2)\n",
    "qc.h(2)\n",
    "qc.z(0)\n",
    "qc.measure_all()\n",
    "\n",
    "start_time = time.time()\n",
    "tqc =  transpile(qc, backend, optimization_level = 1)\n",
    "TT = time.time() - start_time\n",
    "result = execute(tqc, Aer.get_backend('qasm_simulator'), coupling_map=coupling_map, basis_gates=basis_gates, noise_model=noise_model).result()\n",
    "RT = result.time_taken\n",
    "tempCost, tempGC = ComplexityFinder(tqc)\n",
    "print([tempCost, tempGC, 1, RT, TT])\n",
    "Set1 = [tempCost, tempGC, 1, TT]\n",
    "\n",
    "start_time = time.time()\n",
    "tqc =  transpile(qc, backend, optimization_level = 2)\n",
    "TT = time.time() - start_time\n",
    "result = execute(tqc, Aer.get_backend('qasm_simulator'), coupling_map=coupling_map, basis_gates=basis_gates, noise_model=noise_model).result()\n",
    "RT = result.time_taken\n",
    "tempCost, tempGC = ComplexityFinder(tqc)\n",
    "print([tempCost, tempGC, 2, RT, TT])\n",
    "Set2 = [tempCost, tempGC, 2, TT]"
   ]
  },
  {
   "cell_type": "code",
   "execution_count": 21,
   "id": "2678d335-8c68-43cc-8c7c-4510ae68eb00",
   "metadata": {},
   "outputs": [],
   "source": [
    "#Linear Regression"
   ]
  },
  {
   "cell_type": "code",
   "execution_count": 22,
   "id": "c407da22-8bfb-4b63-a032-043ce25d833d",
   "metadata": {},
   "outputs": [
    {
     "name": "stdout",
     "output_type": "stream",
     "text": [
      "[0.10350676]\n",
      "[0.09914812]\n",
      "0.06579396322423858\n"
     ]
    }
   ],
   "source": [
    "X = np.asarray(df[['Cost', 'Gate Count', 'Optimization Level', 'Transpile Time']])\n",
    "Y = np.asarray(df['Runtime'])\n",
    "reg = LinearRegression().fit(X, Y)\n",
    "print(reg.predict([Set1]))\n",
    "print(reg.predict([Set2]))\n",
    "print(reg.score(X,Y))\n",
    "# filename='MLModels//PerthSimRegModel.sav'\n",
    "# pickle.dump(reg, open(filename, 'wb'))"
   ]
  },
  {
   "cell_type": "code",
   "execution_count": 23,
   "id": "da57788d-f885-494e-86b0-0e88a40c0a32",
   "metadata": {},
   "outputs": [],
   "source": [
    "#Decision Tree Regression"
   ]
  },
  {
   "cell_type": "code",
   "execution_count": 24,
   "id": "e068914d-6f58-490f-a6c3-bcf5c334a4bd",
   "metadata": {},
   "outputs": [
    {
     "name": "stdout",
     "output_type": "stream",
     "text": [
      "[0.10350676]\n",
      "[0.09914812]\n",
      "0.06579396322423858\n"
     ]
    }
   ],
   "source": [
    "# create a regressor object\n",
    "regressor = DecisionTreeRegressor(random_state = 0) \n",
    "  \n",
    "# fit the regressor with X and Y data\n",
    "regressor.fit(X, Y)\n",
    "print(reg.predict([Set1]))\n",
    "print(reg.predict([Set2]))\n",
    "print(reg.score(X,Y))"
   ]
  },
  {
   "cell_type": "code",
   "execution_count": 12,
   "id": "42611ece-a6c8-4061-8537-3a188268718d",
   "metadata": {},
   "outputs": [
    {
     "data": {
      "text/plain": [
       "Cost                  0.155269\n",
       "Gate Count            0.065725\n",
       "Optimization Level   -0.199696\n",
       "Runtime               1.000000\n",
       "Transpile Time       -0.076048\n",
       "Name: Runtime, dtype: float64"
      ]
     },
     "execution_count": 12,
     "metadata": {},
     "output_type": "execute_result"
    }
   ],
   "source": [
    "correlation_matrix = df.corr()\n",
    "correlation_matrix[\"Runtime\"]"
   ]
  },
  {
   "cell_type": "code",
   "execution_count": null,
   "id": "34182ec4-fae4-4cef-ba12-7f07f96c34c1",
   "metadata": {},
   "outputs": [],
   "source": []
  }
 ],
 "metadata": {
  "kernelspec": {
   "display_name": "Python 3 (ipykernel)",
   "language": "python",
   "name": "python3"
  },
  "language_info": {
   "codemirror_mode": {
    "name": "ipython",
    "version": 3
   },
   "file_extension": ".py",
   "mimetype": "text/x-python",
   "name": "python",
   "nbconvert_exporter": "python",
   "pygments_lexer": "ipython3",
   "version": "3.10.9"
  }
 },
 "nbformat": 4,
 "nbformat_minor": 5
}
